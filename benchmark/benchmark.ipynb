{
 "cells": [
  {
   "cell_type": "markdown",
   "id": "8be6de68-bdab-4c83-8906-f3857a8ca9d2",
   "metadata": {},
   "source": [
    "# How to run this notebook\n",
    "\n",
    "In order to run this notebook using Poetry, you first need to create a kernel that uses the virtualenv that you use for SeaGOAT development.\n",
    "\n",
    "In order to do that, you can run the following commands:\n",
    "\n",
    "```bash\n",
    "poetry run python -m ipykernel install --user --name seagoat-poetry\n",
    "```"
   ]
  },
  {
   "cell_type": "code",
   "execution_count": 582,
   "id": "dbace2d6-271b-490e-88c4-9bef9efc9035",
   "metadata": {},
   "outputs": [
    {
     "name": "stdout",
     "output_type": "stream",
     "text": [
      "The autoreload extension is already loaded. To reload it, use:\n",
      "  %reload_ext autoreload\n"
     ]
    }
   ],
   "source": [
    "%load_ext autoreload\n",
    "%autoreload 2"
   ]
  },
  {
   "cell_type": "code",
   "execution_count": 583,
   "id": "8ea67b49-4e7e-43d5-ae65-8ca867e2214b",
   "metadata": {},
   "outputs": [],
   "source": [
    "import matplotlib.pyplot as plt\n",
    "from IPython.display import display\n",
    "from IPython.core.getipython import get_ipython\n",
    "from IPython.display import Javascript"
   ]
  },
  {
   "cell_type": "code",
   "execution_count": 584,
   "id": "b41444e9-cfd6-4092-b81c-d927aaf5f4a0",
   "metadata": {
    "scrolled": true
   },
   "outputs": [
    {
     "data": {
      "text/plain": [
       "['gt -C1', 'gt -C2', 'initial test']"
      ]
     },
     "execution_count": 584,
     "metadata": {},
     "output_type": "execute_result"
    }
   ],
   "source": [
    "from load_results import load_results\n",
    "from load_results import get_percentage_of_queries_with_correct_results\n",
    "from load_results import get_percentage_of_examples_with_correct_results\n",
    "from load_results import get_positions_of_correct_results\n",
    "from load_results import get_best_position_of_correct_results\n",
    "from load_results import get_average_position_of_a_correct_results\n",
    "from load_results import get_list_of_test_runs\n",
    "from load_results import get_chance_of_getting_correct_result_in_n_lines\n",
    "\n",
    "list_of_test_runs = get_list_of_test_runs()\n",
    "list_of_test_runs"
   ]
  },
  {
   "cell_type": "code",
   "execution_count": 585,
   "id": "5dad92aa-5492-4cca-81de-cbbae3af08a1",
   "metadata": {},
   "outputs": [],
   "source": [
    "results = load_results(\"gt -C2\")"
   ]
  },
  {
   "cell_type": "markdown",
   "id": "fa747444-101d-4fb6-aed2-6bf470088b05",
   "metadata": {},
   "source": [
    "## Quality of example cases"
   ]
  },
  {
   "cell_type": "code",
   "execution_count": 586,
   "id": "930dd534-ada3-452e-9b1c-4dd6b30c8d6a",
   "metadata": {},
   "outputs": [
    {
     "data": {
      "text/plain": [
       "(array([ 9.,  0.,  0.,  0.,  0.,  2.,  3.,  4.,  1.,  0.,  0.,  0.,  3.,\n",
       "        12., 21., 13.,  3.,  2.,  2.,  5.,  9., 28., 16.,  7.,  1.]),\n",
       " array([ 0. ,  3.8,  7.6, 11.4, 15.2, 19. , 22.8, 26.6, 30.4, 34.2, 38. ,\n",
       "        41.8, 45.6, 49.4, 53.2, 57. , 60.8, 64.6, 68.4, 72.2, 76. , 79.8,\n",
       "        83.6, 87.4, 91.2, 95. ]),\n",
       " <BarContainer object of 25 artists>)"
      ]
     },
     "execution_count": 586,
     "metadata": {},
     "output_type": "execute_result"
    },
    {
     "data": {
      "image/png": "[encoded data removed]",
      "text/plain": [
       "<Figure size 640x480 with 1 Axes>"
      ]
     },
     "metadata": {},
     "output_type": "display_data"
    }
   ],
   "source": [
    "plt.hist([x['qualityScore'] for x in results], 25)"
   ]
  },
  {
   "cell_type": "markdown",
   "id": "0b2ee33f-c832-4af6-9270-58187d22b099",
   "metadata": {},
   "source": [
    "### Total number of examples"
   ]
  },
  {
   "cell_type": "code",
   "execution_count": 587,
   "id": "99006cff-5be2-4b79-a455-3c0c792eee16",
   "metadata": {},
   "outputs": [
    {
     "data": {
      "text/plain": [
       "141"
      ]
     },
     "execution_count": 587,
     "metadata": {},
     "output_type": "execute_result"
    }
   ],
   "source": [
    "len(results)"
   ]
  },
  {
   "cell_type": "markdown",
   "id": "c3724129-5a72-4681-82d8-0404d0ca327b",
   "metadata": {},
   "source": [
    "### Number of examples after quality cutoff"
   ]
  },
  {
   "cell_type": "code",
   "execution_count": 588,
   "id": "9b86bd09-24db-462d-b422-e80f3072fa78",
   "metadata": {},
   "outputs": [
    {
     "data": {
      "text/plain": [
       "62"
      ]
     },
     "execution_count": 588,
     "metadata": {},
     "output_type": "execute_result"
    }
   ],
   "source": [
    "results = [result for result in results if result['qualityScore'] >= 75]\n",
    "len(results)"
   ]
  },
  {
   "cell_type": "code",
   "execution_count": 589,
   "id": "c109a801-0a30-4372-bcca-519b7bc57abe",
   "metadata": {},
   "outputs": [
    {
     "data": {
      "text/plain": [
       "(array([ 4.,  5.,  8., 10., 12., 15.,  3.,  2.,  2.,  1.]),\n",
       " array([75., 77., 79., 81., 83., 85., 87., 89., 91., 93., 95.]),\n",
       " <BarContainer object of 10 artists>)"
      ]
     },
     "execution_count": 589,
     "metadata": {},
     "output_type": "execute_result"
    },
    {
     "data": {
      "image/png": "[encoded data removed]",
      "text/plain": [
       "<Figure size 640x480 with 1 Axes>"
      ]
     },
     "metadata": {},
     "output_type": "display_data"
    }
   ],
   "source": [
    "plt.hist([x['qualityScore'] for x in results], 10)"
   ]
  },
  {
   "cell_type": "markdown",
   "id": "e829604f-6a3c-4d89-a62e-4c3abf4253ce",
   "metadata": {},
   "source": [
    "## % of queries resulting in a correct result"
   ]
  },
  {
   "cell_type": "code",
   "execution_count": 590,
   "id": "6766d5d9-dec4-4527-a23b-01eb53adc67e",
   "metadata": {},
   "outputs": [
    {
     "data": {
      "text/plain": [
       "1.3856812933025404"
      ]
     },
     "execution_count": 590,
     "metadata": {},
     "output_type": "execute_result"
    }
   ],
   "source": [
    "get_percentage_of_queries_with_correct_results(results, \"random\")"
   ]
  },
  {
   "cell_type": "code",
   "execution_count": 591,
   "id": "63e46be7-29b4-4e13-aba6-f840e40a0edc",
   "metadata": {},
   "outputs": [
    {
     "data": {
      "text/plain": [
       "50.57736720554272"
      ]
     },
     "execution_count": 591,
     "metadata": {},
     "output_type": "execute_result"
    }
   ],
   "source": [
    "get_percentage_of_queries_with_correct_results(results, \"seagoat\")"
   ]
  },
  {
   "cell_type": "markdown",
   "id": "408e5b89-f0da-46a3-9602-5541f86325e6",
   "metadata": {},
   "source": [
    "## % of examples with at least one query resulting in a correct result"
   ]
  },
  {
   "cell_type": "code",
   "execution_count": 592,
   "id": "891b6f80-36ed-4bb3-a155-721efc2a174f",
   "metadata": {},
   "outputs": [
    {
     "data": {
      "text/plain": [
       "9.67741935483871"
      ]
     },
     "execution_count": 592,
     "metadata": {},
     "output_type": "execute_result"
    }
   ],
   "source": [
    "get_percentage_of_examples_with_correct_results(results, 'random')"
   ]
  },
  {
   "cell_type": "code",
   "execution_count": 593,
   "id": "9aaae6d9-da91-4fdb-b163-c0c885c0219e",
   "metadata": {},
   "outputs": [
    {
     "data": {
      "text/plain": [
       "91.93548387096774"
      ]
     },
     "execution_count": 593,
     "metadata": {},
     "output_type": "execute_result"
    }
   ],
   "source": [
    "get_percentage_of_examples_with_correct_results(results, 'seagoat')"
   ]
  },
  {
   "cell_type": "markdown",
   "id": "bf0724d6-33e2-4da7-819f-0d2317324ee2",
   "metadata": {},
   "source": [
    "## Position of correct result when a correct result is found"
   ]
  },
  {
   "cell_type": "code",
   "execution_count": 594,
   "id": "826ac63a-20e0-415c-b68d-cbdc63146deb",
   "metadata": {},
   "outputs": [
    {
     "data": {
      "text/plain": [
       "(array([2., 1., 0., 1., 0., 0., 0., 0., 0., 0., 0., 0., 0., 0., 0., 1., 0.,\n",
       "        0., 0., 1.]),\n",
       " array([10.  , 12.35, 14.7 , 17.05, 19.4 , 21.75, 24.1 , 26.45, 28.8 ,\n",
       "        31.15, 33.5 , 35.85, 38.2 , 40.55, 42.9 , 45.25, 47.6 , 49.95,\n",
       "        52.3 , 54.65, 57.  ]),\n",
       " <BarContainer object of 20 artists>)"
      ]
     },
     "execution_count": 594,
     "metadata": {},
     "output_type": "execute_result"
    },
    {
     "data": {
      "image/png": "[encoded data removed]",
      "text/plain": [
       "<Figure size 640x480 with 1 Axes>"
      ]
     },
     "metadata": {},
     "output_type": "display_data"
    }
   ],
   "source": [
    "plt.hist(get_positions_of_correct_results(results, 'random'), 20)"
   ]
  },
  {
   "cell_type": "code",
   "execution_count": 595,
   "id": "41c5fc9e-03b2-4ae9-b006-fbef62f1bfc7",
   "metadata": {},
   "outputs": [
    {
     "data": {
      "text/plain": [
       "(array([54., 47., 25., 17.,  7., 15., 11.,  2.,  3.,  6.,  7.,  6.,  2.,\n",
       "         0.,  5.,  0.,  0.,  0.,  7.,  5.]),\n",
       " array([  2.,  10.,  18.,  26.,  34.,  42.,  50.,  58.,  66.,  74.,  82.,\n",
       "         90.,  98., 106., 114., 122., 130., 138., 146., 154., 162.]),\n",
       " <BarContainer object of 20 artists>)"
      ]
     },
     "execution_count": 595,
     "metadata": {},
     "output_type": "execute_result"
    },
    {
     "data": {
      "image/png": "[encoded data removed]",
      "text/plain": [
       "<Figure size 640x480 with 1 Axes>"
      ]
     },
     "metadata": {},
     "output_type": "display_data"
    }
   ],
   "source": [
    "plt.hist(get_positions_of_correct_results(results, 'seagoat'), 20)"
   ]
  },
  {
   "cell_type": "markdown",
   "id": "2827dfea-0c20-4cc9-9978-2abc6393eeb1",
   "metadata": {},
   "source": [
    "## Best result position for examples"
   ]
  },
  {
   "cell_type": "code",
   "execution_count": 596,
   "id": "7a23e808-ecfe-444c-8fe3-c9d63675d417",
   "metadata": {},
   "outputs": [
    {
     "data": {
      "text/plain": [
       "(array([11., 13.,  9.,  3.,  3.,  4.,  3.,  1.,  2.,  1.,  1.,  1.,  1.,\n",
       "         0.,  2.,  0.,  0.,  0.,  1.,  1.]),\n",
       " array([  2.,  10.,  18.,  26.,  34.,  42.,  50.,  58.,  66.,  74.,  82.,\n",
       "         90.,  98., 106., 114., 122., 130., 138., 146., 154., 162.]),\n",
       " <BarContainer object of 20 artists>)"
      ]
     },
     "execution_count": 596,
     "metadata": {},
     "output_type": "execute_result"
    },
    {
     "data": {
      "image/png": "[encoded data removed]",
      "text/plain": [
       "<Figure size 640x480 with 1 Axes>"
      ]
     },
     "metadata": {},
     "output_type": "display_data"
    }
   ],
   "source": [
    "plt.hist(get_best_position_of_correct_results(results, 'seagoat'), 20)"
   ]
  },
  {
   "cell_type": "markdown",
   "id": "6a8f55e1-b919-4791-843a-c9b9cd447fd6",
   "metadata": {},
   "source": [
    "## Average position of correct results"
   ]
  },
  {
   "cell_type": "code",
   "execution_count": 597,
   "id": "ec83ac81-6851-4964-a16d-2d5630a16b49",
   "metadata": {},
   "outputs": [
    {
     "data": {
      "text/plain": [
       "36.75342465753425"
      ]
     },
     "execution_count": 597,
     "metadata": {},
     "output_type": "execute_result"
    }
   ],
   "source": [
    "get_average_position_of_a_correct_results(results, 'seagoat')"
   ]
  },
  {
   "cell_type": "markdown",
   "id": "dd798ce6-edee-4c3b-9df7-ee439494ff0a",
   "metadata": {},
   "source": [
    "## Chance of correct result by line N (%)"
   ]
  },
  {
   "cell_type": "code",
   "execution_count": 598,
   "id": "bad9ca92-b817-4cd8-ae47-209ab34de9f9",
   "metadata": {},
   "outputs": [
    {
     "data": {
      "text/plain": [
       "<BarContainer object of 500 artists>"
      ]
     },
     "execution_count": 598,
     "metadata": {},
     "output_type": "execute_result"
    },
    {
     "data": {
      "image/png": "[encoded data removed]",
      "text/plain": [
       "<Figure size 640x480 with 1 Axes>"
      ]
     },
     "metadata": {},
     "output_type": "display_data"
    }
   ],
   "source": [
    "plt.bar(range(500), get_chance_of_getting_correct_result_in_n_lines(results, 'seagoat'), 100)"
   ]
  }
 ],
 "metadata": {
  "kernelspec": {
   "display_name": "seagoat-poetry",
   "language": "python",
   "name": "seagoat-poetry"
  },
  "language_info": {
   "codemirror_mode": {
    "name": "ipython",
    "version": 3
   },
   "file_extension": ".py",
   "mimetype": "text/x-python",
   "name": "python",
   "nbconvert_exporter": "python",
   "pygments_lexer": "ipython3",
   "version": "3.11.5"
  }
 },
 "nbformat": 4,
 "nbformat_minor": 5
}
