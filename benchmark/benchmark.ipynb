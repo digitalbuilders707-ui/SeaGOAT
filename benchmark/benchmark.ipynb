{
 "cells": [
  {
   "cell_type": "code",
   "execution_count": 26,
   "id": "dbace2d6-271b-490e-88c4-9bef9efc9035",
   "metadata": {},
   "outputs": [
    {
     "name": "stdout",
     "output_type": "stream",
     "text": [
      "The autoreload extension is already loaded. To reload it, use:\n",
      "  %reload_ext autoreload\n"
     ]
    }
   ],
   "source": [
    "%load_ext autoreload\n",
    "%autoreload 2"
   ]
  },
  {
   "cell_type": "code",
   "execution_count": 27,
   "id": "8ea67b49-4e7e-43d5-ae65-8ca867e2214b",
   "metadata": {},
   "outputs": [],
   "source": [
    "import matplotlib.pyplot as plt\n",
    "from IPython.display import display\n",
    "from IPython.core.getipython import get_ipython\n",
    "from IPython.display import Javascript\n",
    "import pandas as pd"
   ]
  },
  {
   "cell_type": "code",
   "execution_count": 28,
   "id": "b41444e9-cfd6-4092-b81c-d927aaf5f4a0",
   "metadata": {
    "scrolled": true
   },
   "outputs": [
    {
     "data": {
      "text/plain": [
       "['gt -C1', 'gt -C2', 'initial test']"
      ]
     },
     "execution_count": 28,
     "metadata": {},
     "output_type": "execute_result"
    }
   ],
   "source": [
    "from load_results import load_results\n",
    "from load_results import get_list_of_test_runs\n",
    "from load_results import get_list_of_projects\n",
    "from load_results import load_results_for_all_runs\n",
    "from load_results import get_percentage_of_queries_with_correct_results\n",
    "from load_results import plot_chance_of_getting_correct_result_in_n_lines\n",
    "\n",
    "list_of_test_runs = get_list_of_test_runs()\n",
    "list_of_test_runs"
   ]
  },
  {
   "cell_type": "code",
   "execution_count": 29,
   "id": "5dad92aa-5492-4cca-81de-cbbae3af08a1",
   "metadata": {},
   "outputs": [],
   "source": [
    "examples = load_results(list_of_test_runs[0])"
   ]
  },
  {
   "cell_type": "markdown",
   "id": "fa747444-101d-4fb6-aed2-6bf470088b05",
   "metadata": {},
   "source": [
    "## Quality of example cases"
   ]
  },
  {
   "cell_type": "code",
   "execution_count": 30,
   "id": "930dd534-ada3-452e-9b1c-4dd6b30c8d6a",
   "metadata": {},
   "outputs": [
    {
     "data": {
      "text/plain": [
       "(array([ 9.,  0.,  0.,  0.,  0.,  2.,  3.,  4.,  1.,  0.,  0.,  0.,  3.,\n",
       "        12., 21., 13.,  3.,  2.,  2.,  5.,  9., 28., 16.,  7.,  1.]),\n",
       " array([ 0. ,  3.8,  7.6, 11.4, 15.2, 19. , 22.8, 26.6, 30.4, 34.2, 38. ,\n",
       "        41.8, 45.6, 49.4, 53.2, 57. , 60.8, 64.6, 68.4, 72.2, 76. , 79.8,\n",
       "        83.6, 87.4, 91.2, 95. ]),\n",
       " <BarContainer object of 25 artists>)"
      ]
     },
     "execution_count": 30,
     "metadata": {},
     "output_type": "execute_result"
    },
    {
     "data": {
      "image/png": "[encoded data removed]",
      "text/plain": [
       "<Figure size 640x480 with 1 Axes>"
      ]
     },
     "metadata": {},
     "output_type": "display_data"
    }
   ],
   "source": [
    "plt.hist([x['qualityScore'] for x in examples], 25)"
   ]
  },
  {
   "cell_type": "markdown",
   "id": "0b2ee33f-c832-4af6-9270-58187d22b099",
   "metadata": {},
   "source": [
    "### Total number of examples"
   ]
  },
  {
   "cell_type": "code",
   "execution_count": 31,
   "id": "99006cff-5be2-4b79-a455-3c0c792eee16",
   "metadata": {},
   "outputs": [
    {
     "data": {
      "text/plain": [
       "141"
      ]
     },
     "execution_count": 31,
     "metadata": {},
     "output_type": "execute_result"
    }
   ],
   "source": [
    "len(examples)"
   ]
  },
  {
   "cell_type": "markdown",
   "id": "c3724129-5a72-4681-82d8-0404d0ca327b",
   "metadata": {},
   "source": [
    "### Number of examples after quality cutoff"
   ]
  },
  {
   "cell_type": "code",
   "execution_count": 32,
   "id": "9b86bd09-24db-462d-b422-e80f3072fa78",
   "metadata": {},
   "outputs": [
    {
     "data": {
      "text/plain": [
       "62"
      ]
     },
     "execution_count": 32,
     "metadata": {},
     "output_type": "execute_result"
    }
   ],
   "source": [
    "MINIMUM_EXAMPLE_QUALITY = 75\n",
    "examples = [example for example in examples if example['qualityScore'] >= MINIMUM_EXAMPLE_QUALITY]\n",
    "len(examples)"
   ]
  },
  {
   "cell_type": "code",
   "execution_count": 33,
   "id": "c109a801-0a30-4372-bcca-519b7bc57abe",
   "metadata": {
    "scrolled": true
   },
   "outputs": [
    {
     "data": {
      "text/plain": [
       "(array([ 4.,  5.,  8., 10., 12., 15.,  3.,  2.,  2.,  1.]),\n",
       " array([75., 77., 79., 81., 83., 85., 87., 89., 91., 93., 95.]),\n",
       " <BarContainer object of 10 artists>)"
      ]
     },
     "execution_count": 33,
     "metadata": {},
     "output_type": "execute_result"
    },
    {
     "data": {
      "image/png": "[encoded data removed]",
      "text/plain": [
       "<Figure size 640x480 with 1 Axes>"
      ]
     },
     "metadata": {},
     "output_type": "display_data"
    }
   ],
   "source": [
    "plt.hist([x['qualityScore'] for x in examples], 10)"
   ]
  },
  {
   "cell_type": "markdown",
   "id": "fab835b6-2abe-4563-b7e7-645dcde304f8",
   "metadata": {},
   "source": [
    "## List of test runs"
   ]
  },
  {
   "cell_type": "code",
   "execution_count": 34,
   "id": "dfa26f01-05a4-4c07-a79a-d0e5dcecc1e2",
   "metadata": {},
   "outputs": [
    {
     "data": {
      "text/html": [
       "<div>\n",
       "<style scoped>\n",
       "    .dataframe tbody tr th:only-of-type {\n",
       "        vertical-align: middle;\n",
       "    }\n",
       "\n",
       "    .dataframe tbody tr th {\n",
       "        vertical-align: top;\n",
       "    }\n",
       "\n",
       "    .dataframe thead th {\n",
       "        text-align: right;\n",
       "    }\n",
       "</style>\n",
       "<table border=\"1\" class=\"dataframe\">\n",
       "  <thead>\n",
       "    <tr style=\"text-align: right;\">\n",
       "      <th></th>\n",
       "      <th>Test run name</th>\n",
       "      <th>Engine</th>\n",
       "    </tr>\n",
       "  </thead>\n",
       "  <tbody>\n",
       "    <tr>\n",
       "      <th>0</th>\n",
       "      <td>random</td>\n",
       "      <td>random</td>\n",
       "    </tr>\n",
       "    <tr>\n",
       "      <th>1</th>\n",
       "      <td>gt -C1</td>\n",
       "      <td>seagoat</td>\n",
       "    </tr>\n",
       "    <tr>\n",
       "      <th>2</th>\n",
       "      <td>gt -C2</td>\n",
       "      <td>seagoat</td>\n",
       "    </tr>\n",
       "    <tr>\n",
       "      <th>3</th>\n",
       "      <td>initial test</td>\n",
       "      <td>seagoat</td>\n",
       "    </tr>\n",
       "  </tbody>\n",
       "</table>\n",
       "</div>"
      ],
      "text/plain": [
       "  Test run name   Engine\n",
       "0        random   random\n",
       "1        gt -C1  seagoat\n",
       "2        gt -C2  seagoat\n",
       "3  initial test  seagoat"
      ]
     },
     "execution_count": 34,
     "metadata": {},
     "output_type": "execute_result"
    }
   ],
   "source": [
    "all_results = load_results_for_all_runs(MINIMUM_EXAMPLE_QUALITY)\n",
    "df = pd.DataFrame(all_results, columns=[\"Test run name\", \"Data\", \"Engine\"])\n",
    "df.drop(columns=[\"Data\"])"
   ]
  },
  {
   "cell_type": "markdown",
   "id": "70d5cc1f-09b9-4b43-9243-f7e325d0caaa",
   "metadata": {},
   "source": [
    "## List of projects"
   ]
  },
  {
   "cell_type": "markdown",
   "id": "a8fa5bd8-d5e7-4d07-b2e8-a8d4d3ea897c",
   "metadata": {},
   "source": [
    "## Comparison of accuracy between test runs"
   ]
  },
  {
   "cell_type": "code",
   "execution_count": 35,
   "id": "d6a7f386-174a-4d41-a48a-4c7d653ac84b",
   "metadata": {},
   "outputs": [
    {
     "ename": "NameError",
     "evalue": "name 'projects' is not defined",
     "output_type": "error",
     "traceback": [
      "\u001b[0;31m---------------------------------------------------------------------------\u001b[0m",
      "\u001b[0;31mNameError\u001b[0m                                 Traceback (most recent call last)",
      "Cell \u001b[0;32mIn[35], line 6\u001b[0m\n\u001b[1;32m      1\u001b[0m \u001b[38;5;28;01mdef\u001b[39;00m \u001b[38;5;21mgenerate_filter\u001b[39m(project):\n\u001b[1;32m      2\u001b[0m     \u001b[38;5;28;01mreturn\u001b[39;00m \u001b[38;5;28;01mlambda\u001b[39;00m result: result[\u001b[38;5;124m'\u001b[39m\u001b[38;5;124mrepo\u001b[39m\u001b[38;5;124m'\u001b[39m][\u001b[38;5;124m'\u001b[39m\u001b[38;5;124mname\u001b[39m\u001b[38;5;124m'\u001b[39m] \u001b[38;5;241m==\u001b[39m project\n\u001b[1;32m      4\u001b[0m project_filters \u001b[38;5;241m=\u001b[39m [\n\u001b[1;32m      5\u001b[0m     [\u001b[38;5;124m'\u001b[39m\u001b[38;5;124mAll projects\u001b[39m\u001b[38;5;124m'\u001b[39m, \u001b[38;5;28;01mlambda\u001b[39;00m _: \u001b[38;5;28;01mTrue\u001b[39;00m],\n\u001b[0;32m----> 6\u001b[0m ] \u001b[38;5;241m+\u001b[39m [[project, generate_filter(project)] \u001b[38;5;28;01mfor\u001b[39;00m project \u001b[38;5;129;01min\u001b[39;00m \u001b[43mprojects\u001b[49m]\n\u001b[1;32m      8\u001b[0m results_filtered_by_project_filter \u001b[38;5;241m=\u001b[39m [\n\u001b[1;32m      9\u001b[0m     [\n\u001b[1;32m     10\u001b[0m         project_title,\n\u001b[0;32m   (...)\u001b[0m\n\u001b[1;32m     13\u001b[0m     \u001b[38;5;28;01mfor\u001b[39;00m project_title, filter_function \u001b[38;5;129;01min\u001b[39;00m project_filters\n\u001b[1;32m     14\u001b[0m ]\n\u001b[1;32m     16\u001b[0m \u001b[38;5;28;01mfor\u001b[39;00m project_title, filtered_results \u001b[38;5;129;01min\u001b[39;00m results_filtered_by_project_filter:\n",
      "\u001b[0;31mNameError\u001b[0m: name 'projects' is not defined"
     ]
    }
   ],
   "source": [
    "def generate_filter(project):\n",
    "    return lambda result: result['repo']['name'] == project\n",
    "\n",
    "project_filters = [\n",
    "    ['All projects', lambda _: True],\n",
    "] + [[project, generate_filter(project)] for project in projects]\n",
    "\n",
    "results_filtered_by_project_filter = [\n",
    "    [\n",
    "        project_title,\n",
    "        [[run_name, [result for result in result_data if filter_function(result)], engine] for run_name, result_data, engine in all_results],\n",
    "    ]\n",
    "    for project_title, filter_function in project_filters\n",
    "]\n",
    "\n",
    "for project_title, filtered_results in results_filtered_by_project_filter:\n",
    "    df = pd.DataFrame(filtered_results, columns=[\"Test run name\", \"Data\", \"Engine\"])\n",
    "    df['Examples'] = df.apply(lambda row: len(row['Data']), axis=1)\n",
    "    df['Queries'] = df.apply(lambda row: sum([len(x['queries']) for x in row['Data']]), axis=1)\n",
    "    df['Query success %'] = df.apply(get_percentage_of_queries_with_correct_results, axis=1).apply(lambda x: \"{:.2%}\".format(x))\n",
    "    df['Workflow success %'] = df.apply(get_percentage_of_examples_with_correct_results, axis=1).apply(lambda x: \"{:.2%}\".format(x))\n",
    "    df['Average position of result'] = df.apply(get_average_position_of_a_correct_results, axis=1)\n",
    "    \n",
    "    display(df.drop(columns=[\"Data\"]).style.set_caption(project_title))"
   ]
  },
  {
   "cell_type": "markdown",
   "id": "c6fa5dc2-3248-4e7e-b1cb-d74b5f6572fe",
   "metadata": {},
   "source": [
    "## Chance of correct result by line N"
   ]
  },
  {
   "cell_type": "markdown",
   "id": "60df4444-bbc8-4ec4-aeb2-ff4a9b070a33",
   "metadata": {},
   "source": [
    "### By test run"
   ]
  },
  {
   "cell_type": "code",
   "execution_count": null,
   "id": "e6d8ed58-e616-46af-ae7b-dcb1684f2ea1",
   "metadata": {
    "scrolled": true
   },
   "outputs": [],
   "source": [
    "plot_chance_of_getting_correct_result_in_n_lines(all_results, lambda test_run, query, engine, example: test_run)"
   ]
  },
  {
   "cell_type": "markdown",
   "id": "0cd533f6-f646-4f4d-acba-4a5acc4dfa5c",
   "metadata": {
    "scrolled": true
   },
   "source": [
    "### By project"
   ]
  },
  {
   "cell_type": "code",
   "execution_count": null,
   "id": "0d74de4b-1bdb-4235-a244-21431d0cfa2b",
   "metadata": {},
   "outputs": [],
   "source": [
    "plot_chance_of_getting_correct_result_in_n_lines(all_results, lambda test_run, query, engine, example: example['repo']['name'])"
   ]
  },
  {
   "cell_type": "markdown",
   "id": "ed21f4c3-64b8-4a3c-9356-8b097356c2b1",
   "metadata": {},
   "source": [
    "### By file extension"
   ]
  },
  {
   "cell_type": "code",
   "execution_count": null,
   "id": "19873f1e-d528-4046-90c7-d5b9f7ae758b",
   "metadata": {},
   "outputs": [],
   "source": [
    "import os\n",
    "plot_chance_of_getting_correct_result_in_n_lines(all_results, lambda test_run, query, engine, example: os.path.splitext(example['targetCode']['path'])[1])"
   ]
  }
 ],
 "metadata": {
  "kernelspec": {
   "display_name": "seagoat-poetry",
   "language": "python",
   "name": "seagoat-poetry"
  },
  "language_info": {
   "codemirror_mode": {
    "name": "ipython",
    "version": 3
   },
   "file_extension": ".py",
   "mimetype": "text/x-python",
   "name": "python",
   "nbconvert_exporter": "python",
   "pygments_lexer": "ipython3",
   "version": "3.11.5"
  }
 },
 "nbformat": 4,
 "nbformat_minor": 5
}
